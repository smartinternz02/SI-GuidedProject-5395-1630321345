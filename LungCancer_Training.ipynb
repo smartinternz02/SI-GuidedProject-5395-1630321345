{
 "cells": [
  {
   "cell_type": "code",
   "execution_count": 3,
   "metadata": {},
   "outputs": [],
   "source": [
    "from keras.models import Sequential\n",
    "from  keras.layers import Conv2D\n",
    "from  keras.layers import MaxPooling2D\n",
    "from  keras.layers import Flatten\n",
    "from  keras.layers import Dense"
   ]
  },
  {
   "cell_type": "code",
   "execution_count": 5,
   "metadata": {},
   "outputs": [],
   "source": [
    "lung=Sequential()"
   ]
  },
  {
   "cell_type": "code",
   "execution_count": 6,
   "metadata": {},
   "outputs": [],
   "source": [
    "lung.add(Conv2D(32, (3, 3), input_shape = (64, 64, 1), activation = 'relu'))"
   ]
  },
  {
   "cell_type": "code",
   "execution_count": 7,
   "metadata": {},
   "outputs": [
    {
     "name": "stdout",
     "output_type": "stream",
     "text": [
      "WARNING:tensorflow:From C:\\Users\\ok\\Anaconda3\\lib\\site-packages\\keras\\backend\\tensorflow_backend.py:4070: The name tf.nn.max_pool is deprecated. Please use tf.nn.max_pool2d instead.\n",
      "\n"
     ]
    }
   ],
   "source": [
    "lung.add(MaxPooling2D(pool_size = (2, 2)))"
   ]
  },
  {
   "cell_type": "code",
   "execution_count": 8,
   "metadata": {},
   "outputs": [],
   "source": [
    "lung.add(Flatten())"
   ]
  },
  {
   "cell_type": "code",
   "execution_count": 9,
   "metadata": {},
   "outputs": [],
   "source": [
    "lung.add(Dense(units = 128,activation = \"relu\"))"
   ]
  },
  {
   "cell_type": "code",
   "execution_count": 10,
   "metadata": {},
   "outputs": [],
   "source": [
    "lung.add(Dense(units = 1,activation = \"sigmoid\"))"
   ]
  },
  {
   "cell_type": "code",
   "execution_count": 11,
   "metadata": {},
   "outputs": [
    {
     "name": "stdout",
     "output_type": "stream",
     "text": [
      "WARNING:tensorflow:From C:\\Users\\ok\\Anaconda3\\lib\\site-packages\\tensorflow\\python\\ops\\nn_impl.py:180: add_dispatch_support.<locals>.wrapper (from tensorflow.python.ops.array_ops) is deprecated and will be removed in a future version.\n",
      "Instructions for updating:\n",
      "Use tf.where in 2.0, which has the same broadcast rule as np.where\n"
     ]
    }
   ],
   "source": [
    "lung.compile(optimizer = 'adam', loss = 'binary_crossentropy', metrics = ['accuracy'])"
   ]
  },
  {
   "cell_type": "code",
   "execution_count": 12,
   "metadata": {},
   "outputs": [],
   "source": [
    "from keras.preprocessing.image import ImageDataGenerator\n",
    "train_datagen = ImageDataGenerator(rescale = 1./255,shear_range = 0.2,zoom_range = 0.2,horizontal_flip = True)\n",
    "test_datagen = ImageDataGenerator(rescale = 1./255)"
   ]
  },
  {
   "cell_type": "code",
   "execution_count": 13,
   "metadata": {},
   "outputs": [
    {
     "name": "stdout",
     "output_type": "stream",
     "text": [
      "Found 102 images belonging to 2 classes.\n",
      "Found 40 images belonging to 2 classes.\n"
     ]
    }
   ],
   "source": [
    "x_train = train_datagen.flow_from_directory(\n",
    "    r\"C:\\Externship project\\dataset\\Lungcancer\\trainset\"\n",
    "    ,target_size = (64,64),batch_size = 32 ,\n",
    "    class_mode = 'binary',color_mode=\"grayscale\")\n",
    "x_test = test_datagen.flow_from_directory(\n",
    "    r\"C:\\Externship project\\dataset\\Lungcancer\\testset\",\n",
    "    target_size = (64,64),batch_size = 32 , \n",
    "    class_mode = 'binary',color_mode=\"grayscale\")"
   ]
  },
  {
   "cell_type": "code",
   "execution_count": 14,
   "metadata": {},
   "outputs": [
    {
     "name": "stdout",
     "output_type": "stream",
     "text": [
      "WARNING:tensorflow:From C:\\Users\\ok\\Anaconda3\\lib\\site-packages\\keras\\backend\\tensorflow_backend.py:422: The name tf.global_variables is deprecated. Please use tf.compat.v1.global_variables instead.\n",
      "\n",
      "Epoch 1/100\n",
      "4/4 [==============================] - 2s 437ms/step - loss: 0.7944 - accuracy: 0.5392 - val_loss: 0.2581 - val_accuracy: 0.6500\n",
      "Epoch 2/100\n",
      "4/4 [==============================] - 1s 229ms/step - loss: 0.8422 - accuracy: 0.5784 - val_loss: 0.4212 - val_accuracy: 0.7000\n",
      "Epoch 3/100\n",
      "4/4 [==============================] - 1s 286ms/step - loss: 0.7226 - accuracy: 0.6078 - val_loss: 0.6052 - val_accuracy: 0.6750\n",
      "Epoch 4/100\n",
      "4/4 [==============================] - 1s 222ms/step - loss: 0.5549 - accuracy: 0.7059 - val_loss: 0.6161 - val_accuracy: 0.7500\n",
      "Epoch 5/100\n",
      "4/4 [==============================] - 1s 269ms/step - loss: 0.4909 - accuracy: 0.7059 - val_loss: 0.7067 - val_accuracy: 0.7750\n",
      "Epoch 6/100\n",
      "4/4 [==============================] - 1s 255ms/step - loss: 0.4951 - accuracy: 0.7843 - val_loss: 0.9597 - val_accuracy: 0.8000\n",
      "Epoch 7/100\n",
      "4/4 [==============================] - 1s 190ms/step - loss: 0.4268 - accuracy: 0.7941 - val_loss: 0.3373 - val_accuracy: 0.8250\n",
      "Epoch 8/100\n",
      "4/4 [==============================] - 1s 220ms/step - loss: 0.5796 - accuracy: 0.7157 - val_loss: 0.6266 - val_accuracy: 0.8250\n",
      "Epoch 9/100\n",
      "4/4 [==============================] - 1s 238ms/step - loss: 0.4171 - accuracy: 0.8137 - val_loss: 0.6507 - val_accuracy: 0.8250\n",
      "Epoch 10/100\n",
      "4/4 [==============================] - 1s 235ms/step - loss: 0.4584 - accuracy: 0.7843 - val_loss: 0.2987 - val_accuracy: 0.8500\n",
      "Epoch 11/100\n",
      "4/4 [==============================] - 1s 219ms/step - loss: 0.4166 - accuracy: 0.8431 - val_loss: 0.2355 - val_accuracy: 0.8500\n",
      "Epoch 12/100\n",
      "4/4 [==============================] - 1s 200ms/step - loss: 0.4149 - accuracy: 0.8235 - val_loss: 0.2443 - val_accuracy: 0.8250\n",
      "Epoch 13/100\n",
      "4/4 [==============================] - 1s 213ms/step - loss: 0.3460 - accuracy: 0.8431 - val_loss: 0.2713 - val_accuracy: 0.9000\n",
      "Epoch 14/100\n",
      "4/4 [==============================] - 1s 207ms/step - loss: 0.4450 - accuracy: 0.8431 - val_loss: 0.2663 - val_accuracy: 0.8250\n",
      "Epoch 15/100\n",
      "4/4 [==============================] - 1s 231ms/step - loss: 0.3312 - accuracy: 0.8529 - val_loss: 0.1993 - val_accuracy: 0.9500\n",
      "Epoch 16/100\n",
      "4/4 [==============================] - 1s 230ms/step - loss: 0.2582 - accuracy: 0.9020 - val_loss: 0.2258 - val_accuracy: 0.9000\n",
      "Epoch 17/100\n",
      "4/4 [==============================] - 1s 206ms/step - loss: 0.3354 - accuracy: 0.8627 - val_loss: 0.2903 - val_accuracy: 0.9250\n",
      "Epoch 18/100\n",
      "4/4 [==============================] - 1s 208ms/step - loss: 0.3162 - accuracy: 0.8431 - val_loss: 0.1895 - val_accuracy: 0.9000\n",
      "Epoch 19/100\n",
      "4/4 [==============================] - 1s 276ms/step - loss: 0.2611 - accuracy: 0.9020 - val_loss: 0.1869 - val_accuracy: 0.9250\n",
      "Epoch 20/100\n",
      "4/4 [==============================] - 1s 316ms/step - loss: 0.3139 - accuracy: 0.8922 - val_loss: 0.1507 - val_accuracy: 0.9500\n",
      "Epoch 21/100\n",
      "4/4 [==============================] - 1s 207ms/step - loss: 0.2386 - accuracy: 0.8922 - val_loss: 0.1481 - val_accuracy: 0.9500\n",
      "Epoch 22/100\n",
      "4/4 [==============================] - 1s 274ms/step - loss: 0.2015 - accuracy: 0.9412 - val_loss: 0.3605 - val_accuracy: 0.9250\n",
      "Epoch 23/100\n",
      "4/4 [==============================] - 1s 317ms/step - loss: 0.1813 - accuracy: 0.9412 - val_loss: 0.0560 - val_accuracy: 0.9500\n",
      "Epoch 24/100\n",
      "4/4 [==============================] - 2s 407ms/step - loss: 0.1904 - accuracy: 0.9510 - val_loss: 0.0468 - val_accuracy: 0.9500\n",
      "Epoch 25/100\n",
      "4/4 [==============================] - 1s 290ms/step - loss: 0.2281 - accuracy: 0.8922 - val_loss: 0.1537 - val_accuracy: 0.9250\n",
      "Epoch 26/100\n",
      "4/4 [==============================] - 1s 324ms/step - loss: 0.2102 - accuracy: 0.9020 - val_loss: 0.0144 - val_accuracy: 0.9750\n",
      "Epoch 27/100\n",
      "4/4 [==============================] - 1s 202ms/step - loss: 0.1533 - accuracy: 0.9510 - val_loss: 0.0649 - val_accuracy: 0.9500\n",
      "Epoch 28/100\n",
      "4/4 [==============================] - 2s 390ms/step - loss: 0.1361 - accuracy: 0.9510 - val_loss: 0.0697 - val_accuracy: 0.9500\n",
      "Epoch 29/100\n",
      "4/4 [==============================] - 1s 315ms/step - loss: 0.1681 - accuracy: 0.9510 - val_loss: 0.2419 - val_accuracy: 0.9750\n",
      "Epoch 30/100\n",
      "4/4 [==============================] - 1s 217ms/step - loss: 0.1761 - accuracy: 0.9706 - val_loss: 0.0483 - val_accuracy: 0.9750\n",
      "Epoch 31/100\n",
      "4/4 [==============================] - 1s 213ms/step - loss: 0.2037 - accuracy: 0.9314 - val_loss: 0.0416 - val_accuracy: 0.9750\n",
      "Epoch 32/100\n",
      "4/4 [==============================] - 1s 214ms/step - loss: 0.1718 - accuracy: 0.9314 - val_loss: 0.0148 - val_accuracy: 0.9750\n",
      "Epoch 33/100\n",
      "4/4 [==============================] - 1s 207ms/step - loss: 0.0891 - accuracy: 0.9902 - val_loss: 0.0330 - val_accuracy: 0.9750\n",
      "Epoch 34/100\n",
      "4/4 [==============================] - 1s 223ms/step - loss: 0.1297 - accuracy: 0.9608 - val_loss: 0.0080 - val_accuracy: 1.0000\n",
      "Epoch 35/100\n",
      "4/4 [==============================] - 1s 197ms/step - loss: 0.1026 - accuracy: 0.9706 - val_loss: 0.0831 - val_accuracy: 0.9750\n",
      "Epoch 36/100\n",
      "4/4 [==============================] - 1s 262ms/step - loss: 0.1544 - accuracy: 0.9216 - val_loss: 0.1939 - val_accuracy: 0.9250\n",
      "Epoch 37/100\n",
      "4/4 [==============================] - 1s 223ms/step - loss: 0.1950 - accuracy: 0.8922 - val_loss: 0.0247 - val_accuracy: 1.0000\n",
      "Epoch 38/100\n",
      "4/4 [==============================] - 1s 186ms/step - loss: 0.1327 - accuracy: 0.9510 - val_loss: 0.0140 - val_accuracy: 0.9750\n",
      "Epoch 39/100\n",
      "4/4 [==============================] - 1s 226ms/step - loss: 0.1195 - accuracy: 0.9706 - val_loss: 0.0199 - val_accuracy: 1.0000\n",
      "Epoch 40/100\n",
      "4/4 [==============================] - 1s 239ms/step - loss: 0.1124 - accuracy: 0.9706 - val_loss: 0.1144 - val_accuracy: 1.0000\n",
      "Epoch 41/100\n",
      "4/4 [==============================] - 1s 210ms/step - loss: 0.0607 - accuracy: 1.0000 - val_loss: 0.0151 - val_accuracy: 1.0000\n",
      "Epoch 42/100\n",
      "4/4 [==============================] - 1s 210ms/step - loss: 0.1152 - accuracy: 0.9608 - val_loss: 0.0029 - val_accuracy: 1.0000\n",
      "Epoch 43/100\n",
      "4/4 [==============================] - 1s 205ms/step - loss: 0.0853 - accuracy: 0.9706 - val_loss: 0.0379 - val_accuracy: 1.0000\n",
      "Epoch 44/100\n",
      "4/4 [==============================] - 1s 224ms/step - loss: 0.0906 - accuracy: 0.9804 - val_loss: 0.0295 - val_accuracy: 1.0000\n",
      "Epoch 45/100\n",
      "4/4 [==============================] - 1s 203ms/step - loss: 0.0811 - accuracy: 0.9706 - val_loss: 0.0292 - val_accuracy: 1.0000\n",
      "Epoch 46/100\n",
      "4/4 [==============================] - 1s 216ms/step - loss: 0.0840 - accuracy: 0.9804 - val_loss: 0.0126 - val_accuracy: 1.0000\n",
      "Epoch 47/100\n",
      "4/4 [==============================] - 1s 201ms/step - loss: 0.0746 - accuracy: 0.9608 - val_loss: 0.0291 - val_accuracy: 1.0000\n",
      "Epoch 48/100\n",
      "4/4 [==============================] - 1s 217ms/step - loss: 0.0767 - accuracy: 1.0000 - val_loss: 0.0110 - val_accuracy: 0.9750\n",
      "Epoch 49/100\n",
      "4/4 [==============================] - 1s 230ms/step - loss: 0.0719 - accuracy: 1.0000 - val_loss: 0.0397 - val_accuracy: 1.0000\n",
      "Epoch 50/100\n",
      "4/4 [==============================] - 1s 221ms/step - loss: 0.1274 - accuracy: 0.9706 - val_loss: 0.0730 - val_accuracy: 1.0000\n",
      "Epoch 51/100\n",
      "4/4 [==============================] - 1s 231ms/step - loss: 0.0640 - accuracy: 0.9902 - val_loss: 0.1016 - val_accuracy: 1.0000\n",
      "Epoch 52/100\n",
      "4/4 [==============================] - 1s 204ms/step - loss: 0.0596 - accuracy: 0.9902 - val_loss: 0.2065 - val_accuracy: 0.9750\n",
      "Epoch 53/100\n",
      "4/4 [==============================] - 1s 214ms/step - loss: 0.0394 - accuracy: 1.0000 - val_loss: 0.0016 - val_accuracy: 0.9750\n",
      "Epoch 54/100\n",
      "4/4 [==============================] - 1s 202ms/step - loss: 0.0384 - accuracy: 0.9902 - val_loss: 0.0125 - val_accuracy: 0.9750\n",
      "Epoch 55/100\n",
      "4/4 [==============================] - 1s 229ms/step - loss: 0.0448 - accuracy: 0.9902 - val_loss: 0.0216 - val_accuracy: 0.9750\n",
      "Epoch 56/100\n",
      "4/4 [==============================] - 1s 222ms/step - loss: 0.0396 - accuracy: 0.9804 - val_loss: 0.0243 - val_accuracy: 0.9750\n",
      "Epoch 57/100\n"
     ]
    },
    {
     "name": "stdout",
     "output_type": "stream",
     "text": [
      "4/4 [==============================] - 1s 194ms/step - loss: 0.0553 - accuracy: 0.9804 - val_loss: 0.0096 - val_accuracy: 0.9750\n",
      "Epoch 58/100\n",
      "4/4 [==============================] - 1s 219ms/step - loss: 0.0427 - accuracy: 0.9902 - val_loss: 0.0023 - val_accuracy: 0.9750\n",
      "Epoch 59/100\n",
      "4/4 [==============================] - 1s 205ms/step - loss: 0.0781 - accuracy: 0.9706 - val_loss: 0.0299 - val_accuracy: 0.9750\n",
      "Epoch 60/100\n",
      "4/4 [==============================] - 1s 215ms/step - loss: 0.0548 - accuracy: 0.9902 - val_loss: 0.0355 - val_accuracy: 1.0000\n",
      "Epoch 61/100\n",
      "4/4 [==============================] - 1s 221ms/step - loss: 0.0836 - accuracy: 0.9902 - val_loss: 0.0021 - val_accuracy: 1.0000\n",
      "Epoch 62/100\n",
      "4/4 [==============================] - 1s 227ms/step - loss: 0.0434 - accuracy: 1.0000 - val_loss: 0.0155 - val_accuracy: 1.0000\n",
      "Epoch 63/100\n",
      "4/4 [==============================] - 1s 209ms/step - loss: 0.0409 - accuracy: 0.9902 - val_loss: 0.0154 - val_accuracy: 1.0000\n",
      "Epoch 64/100\n",
      "4/4 [==============================] - 1s 197ms/step - loss: 0.0446 - accuracy: 1.0000 - val_loss: 0.0116 - val_accuracy: 1.0000\n",
      "Epoch 65/100\n",
      "4/4 [==============================] - 1s 216ms/step - loss: 0.0303 - accuracy: 1.0000 - val_loss: 0.0087 - val_accuracy: 1.0000\n",
      "Epoch 66/100\n",
      "4/4 [==============================] - 1s 209ms/step - loss: 0.0277 - accuracy: 1.0000 - val_loss: 0.0060 - val_accuracy: 1.0000\n",
      "Epoch 67/100\n",
      "4/4 [==============================] - 1s 206ms/step - loss: 0.0510 - accuracy: 0.9804 - val_loss: 0.0052 - val_accuracy: 1.0000\n",
      "Epoch 68/100\n",
      "4/4 [==============================] - 1s 214ms/step - loss: 0.0280 - accuracy: 1.0000 - val_loss: 0.0035 - val_accuracy: 1.0000\n",
      "Epoch 69/100\n",
      "4/4 [==============================] - 1s 213ms/step - loss: 0.0555 - accuracy: 0.9706 - val_loss: 0.0158 - val_accuracy: 1.0000\n",
      "Epoch 70/100\n",
      "4/4 [==============================] - 1s 218ms/step - loss: 0.0155 - accuracy: 1.0000 - val_loss: 0.0184 - val_accuracy: 1.0000\n",
      "Epoch 71/100\n",
      "4/4 [==============================] - 1s 211ms/step - loss: 0.0298 - accuracy: 1.0000 - val_loss: 0.0071 - val_accuracy: 1.0000\n",
      "Epoch 72/100\n",
      "4/4 [==============================] - 1s 215ms/step - loss: 0.0269 - accuracy: 0.9902 - val_loss: 0.0031 - val_accuracy: 1.0000\n",
      "Epoch 73/100\n",
      "4/4 [==============================] - 1s 183ms/step - loss: 0.0270 - accuracy: 0.9902 - val_loss: 0.0046 - val_accuracy: 1.0000\n",
      "Epoch 74/100\n",
      "4/4 [==============================] - 1s 232ms/step - loss: 0.0230 - accuracy: 1.0000 - val_loss: 0.0061 - val_accuracy: 1.0000\n",
      "Epoch 75/100\n",
      "4/4 [==============================] - 1s 187ms/step - loss: 0.0248 - accuracy: 1.0000 - val_loss: 0.0019 - val_accuracy: 1.0000\n",
      "Epoch 76/100\n",
      "4/4 [==============================] - 1s 215ms/step - loss: 0.0415 - accuracy: 0.9804 - val_loss: 0.0012 - val_accuracy: 1.0000\n",
      "Epoch 77/100\n",
      "4/4 [==============================] - 1s 194ms/step - loss: 0.0394 - accuracy: 0.9804 - val_loss: 0.0037 - val_accuracy: 1.0000\n",
      "Epoch 78/100\n",
      "4/4 [==============================] - 1s 223ms/step - loss: 0.0177 - accuracy: 1.0000 - val_loss: 0.0017 - val_accuracy: 1.0000\n",
      "Epoch 79/100\n",
      "4/4 [==============================] - 1s 208ms/step - loss: 0.0504 - accuracy: 0.9804 - val_loss: 0.0055 - val_accuracy: 1.0000\n",
      "Epoch 80/100\n",
      "4/4 [==============================] - 1s 208ms/step - loss: 0.0333 - accuracy: 1.0000 - val_loss: 6.5507e-04 - val_accuracy: 1.0000\n",
      "Epoch 81/100\n",
      "4/4 [==============================] - 1s 198ms/step - loss: 0.0875 - accuracy: 0.9706 - val_loss: 0.0157 - val_accuracy: 0.9750\n",
      "Epoch 82/100\n",
      "4/4 [==============================] - 1s 196ms/step - loss: 0.0202 - accuracy: 1.0000 - val_loss: 0.0025 - val_accuracy: 1.0000\n",
      "Epoch 83/100\n",
      "4/4 [==============================] - 1s 196ms/step - loss: 0.0600 - accuracy: 0.9902 - val_loss: 0.0103 - val_accuracy: 1.0000\n",
      "Epoch 84/100\n",
      "4/4 [==============================] - 1s 216ms/step - loss: 0.0309 - accuracy: 0.9902 - val_loss: 0.0106 - val_accuracy: 1.0000\n",
      "Epoch 85/100\n",
      "4/4 [==============================] - 1s 209ms/step - loss: 0.0392 - accuracy: 0.9902 - val_loss: 9.1457e-04 - val_accuracy: 1.0000\n",
      "Epoch 86/100\n",
      "4/4 [==============================] - 1s 219ms/step - loss: 0.0306 - accuracy: 0.9902 - val_loss: 7.4094e-04 - val_accuracy: 1.0000\n",
      "Epoch 87/100\n",
      "4/4 [==============================] - 1s 217ms/step - loss: 0.0195 - accuracy: 1.0000 - val_loss: 0.0014 - val_accuracy: 1.0000\n",
      "Epoch 88/100\n",
      "4/4 [==============================] - 1s 202ms/step - loss: 0.0169 - accuracy: 1.0000 - val_loss: 0.0022 - val_accuracy: 1.0000\n",
      "Epoch 89/100\n",
      "4/4 [==============================] - 1s 205ms/step - loss: 0.0129 - accuracy: 1.0000 - val_loss: 0.0030 - val_accuracy: 1.0000\n",
      "Epoch 90/100\n",
      "4/4 [==============================] - 1s 208ms/step - loss: 0.0541 - accuracy: 0.9902 - val_loss: 0.1577 - val_accuracy: 1.0000\n",
      "Epoch 91/100\n",
      "4/4 [==============================] - 1s 230ms/step - loss: 0.0435 - accuracy: 0.9902 - val_loss: 0.0080 - val_accuracy: 1.0000\n",
      "Epoch 92/100\n",
      "4/4 [==============================] - 1s 214ms/step - loss: 0.0353 - accuracy: 0.9804 - val_loss: 0.0085 - val_accuracy: 1.0000\n",
      "Epoch 93/100\n",
      "4/4 [==============================] - 1s 201ms/step - loss: 0.0349 - accuracy: 0.9902 - val_loss: 0.0138 - val_accuracy: 1.0000\n",
      "Epoch 94/100\n",
      "4/4 [==============================] - 1s 219ms/step - loss: 0.0396 - accuracy: 0.9902 - val_loss: 0.0023 - val_accuracy: 1.0000\n",
      "Epoch 95/100\n",
      "4/4 [==============================] - 1s 233ms/step - loss: 0.0314 - accuracy: 0.9902 - val_loss: 1.5713e-04 - val_accuracy: 1.0000\n",
      "Epoch 96/100\n",
      "4/4 [==============================] - 1s 186ms/step - loss: 0.0226 - accuracy: 0.9902 - val_loss: 7.0018e-04 - val_accuracy: 1.0000\n",
      "Epoch 97/100\n",
      "4/4 [==============================] - 1s 200ms/step - loss: 0.0275 - accuracy: 0.9902 - val_loss: 0.0019 - val_accuracy: 1.0000\n",
      "Epoch 98/100\n",
      "4/4 [==============================] - 1s 231ms/step - loss: 0.0088 - accuracy: 1.0000 - val_loss: 0.0011 - val_accuracy: 1.0000\n",
      "Epoch 99/100\n",
      "4/4 [==============================] - 1s 213ms/step - loss: 0.0116 - accuracy: 1.0000 - val_loss: 0.0103 - val_accuracy: 1.0000\n",
      "Epoch 100/100\n",
      "4/4 [==============================] - 1s 201ms/step - loss: 0.0127 - accuracy: 1.0000 - val_loss: 0.0019 - val_accuracy: 1.0000\n"
     ]
    },
    {
     "data": {
      "text/plain": [
       "<keras.callbacks.callbacks.History at 0x1a5586cf978>"
      ]
     },
     "execution_count": 14,
     "metadata": {},
     "output_type": "execute_result"
    }
   ],
   "source": [
    "lung.fit_generator(x_train,steps_per_epoch = 4, \n",
    "                    epochs = 100,validation_data = x_test, \n",
    "                    validation_steps = 2)"
   ]
  },
  {
   "cell_type": "code",
   "execution_count": 15,
   "metadata": {},
   "outputs": [
    {
     "name": "stdout",
     "output_type": "stream",
     "text": [
      "{'Cancer': 0, 'NonCancer': 1}\n"
     ]
    }
   ],
   "source": [
    "print(x_train.class_indices)"
   ]
  },
  {
   "cell_type": "code",
   "execution_count": 16,
   "metadata": {},
   "outputs": [],
   "source": [
    "lung.save(\"lung.h5\")"
   ]
  },
  {
   "cell_type": "code",
   "execution_count": null,
   "metadata": {},
   "outputs": [],
   "source": []
  },
  {
   "cell_type": "code",
   "execution_count": null,
   "metadata": {},
   "outputs": [],
   "source": []
  }
 ],
 "metadata": {
  "kernelspec": {
   "display_name": "Python 3",
   "language": "python",
   "name": "python3"
  },
  "language_info": {
   "codemirror_mode": {
    "name": "ipython",
    "version": 3
   },
   "file_extension": ".py",
   "mimetype": "text/x-python",
   "name": "python",
   "nbconvert_exporter": "python",
   "pygments_lexer": "ipython3",
   "version": "3.7.3"
  }
 },
 "nbformat": 4,
 "nbformat_minor": 2
}
